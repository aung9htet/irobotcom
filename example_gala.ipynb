{
  "cells": [
    {
      "cell_type": "markdown",
      "metadata": {
        "id": "TMN9rbdyEwDV"
      },
      "source": [
        "Example of the use of IFrame to invoke cross-scripting functions"
      ]
    },
    {
      "cell_type": "markdown",
      "metadata": {
        "id": "hExatittu72Y"
      },
      "source": [
        "# New Section"
      ]
    },
    {
      "cell_type": "code",
      "execution_count": null,
      "metadata": {
        "id": "1IGUqAh-hrwV"
      },
      "outputs": [
        {
          "ename": "ModuleNotFoundError",
          "evalue": "No module named 'numpy'",
          "output_type": "error",
          "traceback": [
            "\u001b[1;31m---------------------------------------------------------------------------\u001b[0m",
            "\u001b[1;31mModuleNotFoundError\u001b[0m                       Traceback (most recent call last)",
            "Cell \u001b[1;32mIn [2], line 3\u001b[0m\n\u001b[0;32m      1\u001b[0m \u001b[39mfrom\u001b[39;00m \u001b[39mIPython\u001b[39;00m\u001b[39m.\u001b[39;00m\u001b[39mdisplay\u001b[39;00m \u001b[39mimport\u001b[39;00m IFrame, Javascript, HTML, display\n\u001b[0;32m      2\u001b[0m \u001b[39mimport\u001b[39;00m \u001b[39mIPython\u001b[39;00m\n\u001b[1;32m----> 3\u001b[0m \u001b[39mimport\u001b[39;00m \u001b[39mnumpy\u001b[39;00m \u001b[39mas\u001b[39;00m \u001b[39mnp\u001b[39;00m\n\u001b[0;32m      4\u001b[0m \u001b[39mimport\u001b[39;00m \u001b[39mtime\u001b[39;00m\n\u001b[0;32m      5\u001b[0m \u001b[39mfrom\u001b[39;00m \u001b[39mgoogle\u001b[39;00m\u001b[39m.\u001b[39;00m\u001b[39mcolab\u001b[39;00m \u001b[39mimport\u001b[39;00m output\n",
            "\u001b[1;31mModuleNotFoundError\u001b[0m: No module named 'numpy'"
          ]
        }
      ],
      "source": [
        "from IPython.display import IFrame, Javascript, HTML, display\n",
        "import IPython\n",
        "import numpy as np\n",
        "import time\n",
        "from google.colab import output"
      ]
    },
    {
      "cell_type": "code",
      "execution_count": 29,
      "metadata": {
        "colab": {
          "base_uri": "https://localhost:8080/",
          "height": 645
        },
        "id": "Gj4iCBPThzIF",
        "outputId": "73a7299b-654c-4974-d398-d011f6c6bc80"
      },
      "outputs": [
        {
          "data": {
            "text/html": [
              "<iframe id=\"simulator\" src=\"https://gala-example.herokuapp.com/simulation.html\" width=\"620\" height=\"620\">\n",
              "            </iframe> \n",
              "            <script>\n",
              "              class Data_Storage{\n",
              "                constructor() {\n",
              "                  this.x = null;\n",
              "                  this.y = null;\n",
              "                  this.theta = null;\n",
              "                  this.food_status = null;\n",
              "                }\n",
              "\n",
              "                set_data(x,y,theta,food_status){\n",
              "                  this.x = str(x);\n",
              "                  this.y = str(y);\n",
              "                  this.theta = str(theta);\n",
              "                  this.food_status = str(food_status);\n",
              "                }\n",
              "\n",
              "                publish(){\n",
              "                    window.someValue = new Promise(resolve => {\n",
              "                      setTimeout(() => {\n",
              "                        resolve(\"hello world!\");\n",
              "                      }, 100);\n",
              "                    });\n",
              "                }\n",
              "              }\n",
              "\n",
              "              // send messages over to iframe\n",
              "              const listenerSpeedChannel = new BroadcastChannel('speed');\n",
              "                                      listenerSpeedChannel.onmessage = (msg) => {\n",
              "                                        document.getElementById(\"simulator\").contentWindow.postMessage(\"speed,\" + msg.data, \"*\");\n",
              "                                      };\n",
              "\n",
              "              const listenerTurnChannel = new BroadcastChannel('turn_speed');\n",
              "                                      listenerTurnChannel.onmessage = (msg) => {\n",
              "                                        document.getElementById(\"simulator\").contentWindow.postMessage(\"turn_speed,\" + msg.data, \"*\");\n",
              "                                      };\n",
              "              \n",
              "              const listenerControlTime = new BroadcastChannel('control_time');\n",
              "                                      listenerControlTime.onmessage = (msg) => {\n",
              "                                        document.getElementById(\"simulator\").contentWindow.postMessage(\"control_time,\" + msg.data, \"*\");\n",
              "                                      };\n",
              "              \n",
              "              //init class\n",
              "              var data_store = new Data_Storage();\n",
              "\n",
              "              // receive messages from iframe\n",
              "              window.addEventListener(\"message\", (event) => {\n",
              "                const command = event.data.split(\",\")[0];\n",
              "                if( command == \"data\" ){\n",
              "                  var x = (event.data.split(\",\")[1]);\n",
              "                  var y = (event.data.split(\",\")[2]);\n",
              "                  var theta = (event.data.split(\",\")[3]);\n",
              "                  var food_status = (event.data.split(\",\")[4]);\n",
              "                  (async function() {\n",
              "                    const result = await google.colab.kernel.invokeFunction(\n",
              "                      'notebook.Run', // The callback name.\n",
              "                      [x,y,theta, food_status], // The arguments.\n",
              "                      {}); // kwargs\n",
              "                  })();\n",
              "                }\n",
              "              });\n",
              "            </script>\n",
              "          "
            ],
            "text/plain": [
              "<IPython.core.display.HTML object>"
            ]
          },
          "metadata": {},
          "output_type": "display_data"
        }
      ],
      "source": [
        "#@title Utility functions\n",
        "# This is the main simulator window, actions will be displayed here\n",
        "# The idea is to use postMessage both for cross-scripting communication with the mars simulator and for intercell communication\n",
        "\n",
        "R = HTML('''<iframe id=\"simulator\" src=\"https://gala-example.herokuapp.com/simulation.html\" width=\"620\" height=\"620\">\n",
        "            </iframe> \n",
        "            <script>\n",
        "              class Data_Storage{\n",
        "                constructor() {\n",
        "                  this.x = null;\n",
        "                  this.y = null;\n",
        "                  this.theta = null;\n",
        "                  this.food_status = null;\n",
        "                }\n",
        "\n",
        "                set_data(x,y,theta,food_status){\n",
        "                  this.x = str(x);\n",
        "                  this.y = str(y);\n",
        "                  this.theta = str(theta);\n",
        "                  this.food_status = str(food_status);\n",
        "                }\n",
        "\n",
        "                publish(){\n",
        "                    window.someValue = new Promise(resolve => {\n",
        "                      setTimeout(() => {\n",
        "                        resolve(\"hello world!\");\n",
        "                      }, 100);\n",
        "                    });\n",
        "                }\n",
        "              }\n",
        "\n",
        "              // send messages over to iframe\n",
        "              const listenerSpeedChannel = new BroadcastChannel('speed');\n",
        "                                      listenerSpeedChannel.onmessage = (msg) => {\n",
        "                                        document.getElementById(\"simulator\").contentWindow.postMessage(\"speed,\" + msg.data, \"*\");\n",
        "                                      };\n",
        "\n",
        "              const listenerTurnChannel = new BroadcastChannel('turn_speed');\n",
        "                                      listenerTurnChannel.onmessage = (msg) => {\n",
        "                                        document.getElementById(\"simulator\").contentWindow.postMessage(\"turn_speed,\" + msg.data, \"*\");\n",
        "                                      };\n",
        "              \n",
        "              const listenerControlTime = new BroadcastChannel('control_time');\n",
        "                                      listenerControlTime.onmessage = (msg) => {\n",
        "                                        document.getElementById(\"simulator\").contentWindow.postMessage(\"control_time,\" + msg.data, \"*\");\n",
        "                                      };\n",
        "              \n",
        "              //init class\n",
        "              var data_store = new Data_Storage();\n",
        "\n",
        "              // receive messages from iframe\n",
        "              window.addEventListener(\"message\", (event) => {\n",
        "                const command = event.data.split(\",\")[0];\n",
        "                if( command == \"data\" ){\n",
        "                  var x = (event.data.split(\",\")[1]);\n",
        "                  var y = (event.data.split(\",\")[2]);\n",
        "                  var theta = (event.data.split(\",\")[3]);\n",
        "                  var food_status = (event.data.split(\",\")[4]);\n",
        "                  (async function() {\n",
        "                    const result = await google.colab.kernel.invokeFunction(\n",
        "                      'notebook.Run', // The callback name.\n",
        "                      [x,y,theta, food_status], // The arguments.\n",
        "                      {}); // kwargs\n",
        "                  })();\n",
        "                }\n",
        "              });\n",
        "            </script>\n",
        "          ''')\n",
        "\n",
        "# Class robot encapsulates javascript calls\n",
        "class Robot:\n",
        "\n",
        "  def __init__(self, rate = 500):\n",
        "    self.speed=0\n",
        "    self.turn_speed=0\n",
        "    self.rate = rate\n",
        "    self.x = None;\n",
        "    self.y = None;\n",
        "    self.theta = None;\n",
        "    self.food_status = None;\n",
        "    output.register_callback('notebook.Run', self.update_data)\n",
        "  \n",
        "  def update_data(self, x, y, theta, food_status):\n",
        "    self.x = x\n",
        "    self.y = y\n",
        "    self.theta = theta\n",
        "    eval = lambda x: x == \"true\"\n",
        "    self.food_status = eval(food_status)\n",
        "    \n",
        "\n",
        "  def get_data(self):\n",
        "    print(\"x :\" + str(self.x))\n",
        "    print(\"y :\" + str(self.y))\n",
        "    print(\"theta :\" + str(self.theta))\n",
        "    print(\"food_status: \" + str(self.food_status))\n",
        "    \n",
        "\n",
        "  def sleep(self, movement_rate = None):\n",
        "    if movement_rate is None:\n",
        "      movement_rate = self.rate\n",
        "    msg = str(movement_rate)\n",
        "    js_string = \"<script>var msg = '\" + msg + \"'; </script>\"\n",
        "    display(HTML(js_string))\n",
        "    display(Javascript('''const senderTimeChannel = new BroadcastChannel('control_time');senderTimeChannel.postMessage(msg);'''))\n",
        "    time.sleep(movement_rate/1000)\n",
        "\n",
        "  def move_speed(self,speed):\n",
        "    self.speed = speed\n",
        "    msg = str(self.speed)\n",
        "    js_string = \"<script>var msg = '\" + msg + \"'; </script>\"\n",
        "    display(HTML(js_string))\n",
        "    display(Javascript('''const senderSpeedChannel = new BroadcastChannel('speed');senderSpeedChannel.postMessage(msg);'''))\n",
        "    self.sleep()\n",
        "    \n",
        "  def move_turn_speed(self,speed):\n",
        "    self.turn_speed = speed\n",
        "    msg = str(self.turn_speed)\n",
        "    js_string = \"<script>var msg = '\" + msg + \"'; </script>\"\n",
        "    display(HTML(js_string))\n",
        "    display(Javascript('''const senderTurnChannel = new BroadcastChannel('turn_speed');senderTurnChannel.postMessage(msg);'''))\n",
        "    self.sleep()\n",
        "  \n",
        "  def exploration(self):\n",
        "    angular_random = (np.random.rand() - 0.5) * np.pi/2 # set at max 45 degrees\n",
        "    self.move_turn_speed(angular_random)\n",
        "    myRobot.move_speed(1)\n",
        "\n",
        "myRobot = Robot(0)\n",
        "display(R)"
      ]
    },
    {
      "cell_type": "markdown",
      "metadata": {
        "id": "NpNFIH5B4opW"
      },
      "source": [
        "**Creating our first behaviour**"
      ]
    },
    {
      "cell_type": "markdown",
      "metadata": {
        "id": "GKVPbazo4tE-"
      },
      "source": [
        "Exploration"
      ]
    },
    {
      "cell_type": "code",
      "execution_count": 39,
      "metadata": {
        "colab": {
          "base_uri": "https://localhost:8080/",
          "height": 89
        },
        "id": "ceQicQ4rySzM",
        "outputId": "1613bf7c-bdf2-442e-b15e-91ad8181db69"
      },
      "outputs": [
        {
          "data": {
            "text/html": [
              "<script>var msg = '0.7416043786643535'; </script>"
            ],
            "text/plain": [
              "<IPython.core.display.HTML object>"
            ]
          },
          "metadata": {},
          "output_type": "display_data"
        },
        {
          "data": {
            "application/javascript": "const senderTurnChannel = new BroadcastChannel('turn_speed');senderTurnChannel.postMessage(msg);",
            "text/plain": [
              "<IPython.core.display.Javascript object>"
            ]
          },
          "metadata": {},
          "output_type": "display_data"
        },
        {
          "data": {
            "text/html": [
              "<script>var msg = '0'; </script>"
            ],
            "text/plain": [
              "<IPython.core.display.HTML object>"
            ]
          },
          "metadata": {},
          "output_type": "display_data"
        },
        {
          "data": {
            "application/javascript": "const senderTimeChannel = new BroadcastChannel('control_time');senderTimeChannel.postMessage(msg);",
            "text/plain": [
              "<IPython.core.display.Javascript object>"
            ]
          },
          "metadata": {},
          "output_type": "display_data"
        },
        {
          "name": "stdout",
          "output_type": "stream",
          "text": [
            "x :0.5891820651171478\n",
            "y :4.8895264278401696\n",
            "theta :73.15416531846463\n",
            "food_status: False\n"
          ]
        }
      ],
      "source": [
        "# myRobot.move_speed(1)\n",
        "# myRobot.move_turn_speed(1)\n",
        "myRobot.exploration()\n",
        "myRobot.get_data()"
      ]
    },
    {
      "cell_type": "markdown",
      "metadata": {
        "id": "KZrivaMRwhR1"
      },
      "source": [
        "**PART 1: THE MOTIVATIONAL CONTROLLER **\n",
        "\n",
        "---\n",
        "\n"
      ]
    },
    {
      "cell_type": "markdown",
      "metadata": {
        "id": "zBxPntEywPEG"
      },
      "source": [
        "**Ventricular layer: the physiological interface**"
      ]
    },
    {
      "cell_type": "code",
      "execution_count": null,
      "metadata": {
        "id": "E2sQ33ZMwXSs"
      },
      "outputs": [],
      "source": [
        "# Implementation, Graphs, play araund with levels"
      ]
    },
    {
      "cell_type": "markdown",
      "metadata": {
        "id": "Hsc1GO0qw57k"
      },
      "source": [
        "**Intermediate Layer: Approach and avoid pathways**"
      ]
    },
    {
      "cell_type": "code",
      "execution_count": null,
      "metadata": {
        "id": "0H9nXJC1wdw-"
      },
      "outputs": [],
      "source": [
        "# Implement the GABA and GLUT neurons and the accumbens"
      ]
    },
    {
      "cell_type": "markdown",
      "metadata": {
        "id": "H5l-OPSnywJ1"
      },
      "source": [
        "**Monoaminergic layer: Dopamine dynamics**"
      ]
    },
    {
      "cell_type": "code",
      "execution_count": null,
      "metadata": {
        "id": "qXSh0Y1aw-d-"
      },
      "outputs": [],
      "source": [
        "var range = (start, end) => [...Array(end - start + 1)].map((_, i) => (start + i).toFi);\n",
        "\n",
        "var result = range(50, 60, 2);\n",
        "\n",
        "print(result);"
      ]
    },
    {
      "cell_type": "markdown",
      "metadata": {
        "id": "BoAOnJwPy_4R"
      },
      "source": [
        "**PART 2: ACTION SELECTION **\n",
        "\n",
        "---"
      ]
    },
    {
      "cell_type": "markdown",
      "metadata": {
        "id": "2pcKZVzezIWN"
      },
      "source": [
        "**Basal ganglia**"
      ]
    },
    {
      "cell_type": "code",
      "execution_count": null,
      "metadata": {
        "id": "3roEC53YzHxw"
      },
      "outputs": [],
      "source": [
        "!kill -9 -1 "
      ]
    },
    {
      "cell_type": "markdown",
      "metadata": {
        "id": "y2jvTrxQzTgP"
      },
      "source": [
        "**PART 3: SPACE REPRESENTATION **\n",
        "\n",
        "---"
      ]
    },
    {
      "cell_type": "markdown",
      "metadata": {
        "id": "CoN2EOcXzkwx"
      },
      "source": [
        "**Hippocampus and place cell**"
      ]
    },
    {
      "cell_type": "code",
      "execution_count": null,
      "metadata": {
        "id": "ZlqAtUv4zTKi"
      },
      "outputs": [],
      "source": [
        "# NOT INCLUDED IN THE FIRST VERSION"
      ]
    },
    {
      "cell_type": "markdown",
      "metadata": {
        "id": "1zUrr1EVzZOS"
      },
      "source": [
        "**PART 4: PUTTING EVERYTHING TOGETHER **\n",
        "\n",
        "---"
      ]
    },
    {
      "cell_type": "code",
      "execution_count": null,
      "metadata": {
        "id": "q-Q1el4hzdli"
      },
      "outputs": [],
      "source": []
    }
  ],
  "metadata": {
    "colab": {
      "provenance": []
    },
    "kernelspec": {
      "display_name": "Python 3.10.8 64-bit (microsoft store)",
      "language": "python",
      "name": "python3"
    },
    "language_info": {
      "codemirror_mode": {
        "name": "ipython",
        "version": 3
      },
      "file_extension": ".py",
      "mimetype": "text/x-python",
      "name": "python",
      "nbconvert_exporter": "python",
      "pygments_lexer": "ipython3",
      "version": "3.10.8"
    },
    "vscode": {
      "interpreter": {
        "hash": "62c38875e3a0ad6174b1b7772c1fadba20ee5fd9fb19fc77bd7b143d00f7d69c"
      }
    }
  },
  "nbformat": 4,
  "nbformat_minor": 0
}
